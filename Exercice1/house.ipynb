{
 "cells": [
  {
   "cell_type": "markdown",
   "metadata": {},
   "source": [
    "# Prediction de loyer\n",
    "\n",
    "## Consignes\n",
    "\n",
    "Reprendre le code du TP de régression linéaire et de tester plusieurs manières d'améliorer la modélisation à l'aide de cette nouvelle observation.\n",
    "\n",
    "Voici ce qu'on attend de vous :\n",
    "\n",
    "- une séparation en training / testing set\n",
    "- 2 propositions d'amélioration du modèle qui obtiennent de meilleures performances que la \"baseline\" (la régression linéaire avec une seule feature)\n",
    "- Une sélection d'un modèle final à partir des performances\n",
    "\n",
    "## Exercice\n",
    "\n",
    "Les principales étapes de l'exercice sont les suivantes:\n",
    "\n",
    "- Chargement des donnéees "
   ]
  },
  {
   "cell_type": "code",
   "execution_count": 1,
   "metadata": {},
   "outputs": [
    {
     "name": "stdout",
     "output_type": "stream",
     "text": [
      "827\n",
      "price               int64\n",
      "surface           float64\n",
      "arrondissement    float64\n",
      "dtype: object\n",
      "822\n"
     ]
    },
    {
     "data": {
      "text/html": [
       "<div>\n",
       "<style scoped>\n",
       "    .dataframe tbody tr th:only-of-type {\n",
       "        vertical-align: middle;\n",
       "    }\n",
       "\n",
       "    .dataframe tbody tr th {\n",
       "        vertical-align: top;\n",
       "    }\n",
       "\n",
       "    .dataframe thead th {\n",
       "        text-align: right;\n",
       "    }\n",
       "</style>\n",
       "<table border=\"1\" class=\"dataframe\">\n",
       "  <thead>\n",
       "    <tr style=\"text-align: right;\">\n",
       "      <th></th>\n",
       "      <th>price</th>\n",
       "      <th>surface</th>\n",
       "      <th>arrondissement</th>\n",
       "    </tr>\n",
       "  </thead>\n",
       "  <tbody>\n",
       "    <tr>\n",
       "      <th>0</th>\n",
       "      <td>1820</td>\n",
       "      <td>46.1</td>\n",
       "      <td>1</td>\n",
       "    </tr>\n",
       "    <tr>\n",
       "      <th>1</th>\n",
       "      <td>1750</td>\n",
       "      <td>41.0</td>\n",
       "      <td>1</td>\n",
       "    </tr>\n",
       "    <tr>\n",
       "      <th>2</th>\n",
       "      <td>1900</td>\n",
       "      <td>55.0</td>\n",
       "      <td>1</td>\n",
       "    </tr>\n",
       "    <tr>\n",
       "      <th>3</th>\n",
       "      <td>1950</td>\n",
       "      <td>46.0</td>\n",
       "      <td>1</td>\n",
       "    </tr>\n",
       "    <tr>\n",
       "      <th>4</th>\n",
       "      <td>1950</td>\n",
       "      <td>49.0</td>\n",
       "      <td>1</td>\n",
       "    </tr>\n",
       "  </tbody>\n",
       "</table>\n",
       "</div>"
      ],
      "text/plain": [
       "   price  surface  arrondissement\n",
       "0   1820     46.1               1\n",
       "1   1750     41.0               1\n",
       "2   1900     55.0               1\n",
       "3   1950     46.0               1\n",
       "4   1950     49.0               1"
      ]
     },
     "execution_count": 1,
     "metadata": {},
     "output_type": "execute_result"
    }
   ],
   "source": [
    "# On importe les librairies dont on aura besoin pour ce tp\n",
    "import numpy as np\n",
    "import pandas as pd\n",
    "import matplotlib.pyplot as plt\n",
    "\n",
    "# On charge le dataset\n",
    "house_data = pd.read_csv('house_data.csv')\n",
    "\n",
    "print(len(house_data))\n",
    "\n",
    "# structure & types\n",
    "print(house_data.dtypes)\n",
    "\n",
    "house_data.dropna(inplace=True)\n",
    "\n",
    "print(len(house_data))\n",
    "\n",
    "# cast `arrondissement` array en entier \n",
    "house_data.arrondissement = house_data.arrondissement.astype(np.int64)\n",
    "\n",
    "house_data.head()"
   ]
  },
  {
   "cell_type": "code",
   "execution_count": 2,
   "metadata": {},
   "outputs": [
    {
     "data": {
      "text/html": [
       "<div>\n",
       "<style scoped>\n",
       "    .dataframe tbody tr th:only-of-type {\n",
       "        vertical-align: middle;\n",
       "    }\n",
       "\n",
       "    .dataframe tbody tr th {\n",
       "        vertical-align: top;\n",
       "    }\n",
       "\n",
       "    .dataframe thead th {\n",
       "        text-align: right;\n",
       "    }\n",
       "</style>\n",
       "<table border=\"1\" class=\"dataframe\">\n",
       "  <thead>\n",
       "    <tr style=\"text-align: right;\">\n",
       "      <th></th>\n",
       "      <th>price</th>\n",
       "      <th>surface</th>\n",
       "      <th>arrondissement</th>\n",
       "    </tr>\n",
       "  </thead>\n",
       "  <tbody>\n",
       "    <tr>\n",
       "      <th>822</th>\n",
       "      <td>850</td>\n",
       "      <td>35.00</td>\n",
       "      <td>10</td>\n",
       "    </tr>\n",
       "    <tr>\n",
       "      <th>823</th>\n",
       "      <td>700</td>\n",
       "      <td>10.00</td>\n",
       "      <td>10</td>\n",
       "    </tr>\n",
       "    <tr>\n",
       "      <th>824</th>\n",
       "      <td>1280</td>\n",
       "      <td>34.00</td>\n",
       "      <td>10</td>\n",
       "    </tr>\n",
       "    <tr>\n",
       "      <th>825</th>\n",
       "      <td>1545</td>\n",
       "      <td>65.00</td>\n",
       "      <td>10</td>\n",
       "    </tr>\n",
       "    <tr>\n",
       "      <th>826</th>\n",
       "      <td>1000</td>\n",
       "      <td>21.43</td>\n",
       "      <td>10</td>\n",
       "    </tr>\n",
       "  </tbody>\n",
       "</table>\n",
       "</div>"
      ],
      "text/plain": [
       "     price  surface  arrondissement\n",
       "822    850    35.00              10\n",
       "823    700    10.00              10\n",
       "824   1280    34.00              10\n",
       "825   1545    65.00              10\n",
       "826   1000    21.43              10"
      ]
     },
     "execution_count": 2,
     "metadata": {},
     "output_type": "execute_result"
    }
   ],
   "source": [
    "house_data.tail()"
   ]
  },
  {
   "cell_type": "code",
   "execution_count": 3,
   "metadata": {},
   "outputs": [
    {
     "data": {
      "text/html": [
       "<div>\n",
       "<style scoped>\n",
       "    .dataframe tbody tr th:only-of-type {\n",
       "        vertical-align: middle;\n",
       "    }\n",
       "\n",
       "    .dataframe tbody tr th {\n",
       "        vertical-align: top;\n",
       "    }\n",
       "\n",
       "    .dataframe thead th {\n",
       "        text-align: right;\n",
       "    }\n",
       "</style>\n",
       "<table border=\"1\" class=\"dataframe\">\n",
       "  <thead>\n",
       "    <tr style=\"text-align: right;\">\n",
       "      <th></th>\n",
       "      <th>price</th>\n",
       "      <th>surface</th>\n",
       "      <th>arrondissement</th>\n",
       "    </tr>\n",
       "  </thead>\n",
       "  <tbody>\n",
       "    <tr>\n",
       "      <th>count</th>\n",
       "      <td>822.000000</td>\n",
       "      <td>822.000000</td>\n",
       "      <td>822.000000</td>\n",
       "    </tr>\n",
       "    <tr>\n",
       "      <th>mean</th>\n",
       "      <td>2010.306569</td>\n",
       "      <td>58.045925</td>\n",
       "      <td>4.142336</td>\n",
       "    </tr>\n",
       "    <tr>\n",
       "      <th>std</th>\n",
       "      <td>1895.091794</td>\n",
       "      <td>44.827522</td>\n",
       "      <td>3.202151</td>\n",
       "    </tr>\n",
       "    <tr>\n",
       "      <th>min</th>\n",
       "      <td>390.000000</td>\n",
       "      <td>10.000000</td>\n",
       "      <td>1.000000</td>\n",
       "    </tr>\n",
       "    <tr>\n",
       "      <th>25%</th>\n",
       "      <td>1052.500000</td>\n",
       "      <td>28.655000</td>\n",
       "      <td>2.000000</td>\n",
       "    </tr>\n",
       "    <tr>\n",
       "      <th>50%</th>\n",
       "      <td>1564.500000</td>\n",
       "      <td>46.100000</td>\n",
       "      <td>3.000000</td>\n",
       "    </tr>\n",
       "    <tr>\n",
       "      <th>75%</th>\n",
       "      <td>2348.000000</td>\n",
       "      <td>73.000000</td>\n",
       "      <td>4.000000</td>\n",
       "    </tr>\n",
       "    <tr>\n",
       "      <th>max</th>\n",
       "      <td>25000.000000</td>\n",
       "      <td>415.000000</td>\n",
       "      <td>10.000000</td>\n",
       "    </tr>\n",
       "  </tbody>\n",
       "</table>\n",
       "</div>"
      ],
      "text/plain": [
       "              price     surface  arrondissement\n",
       "count    822.000000  822.000000      822.000000\n",
       "mean    2010.306569   58.045925        4.142336\n",
       "std     1895.091794   44.827522        3.202151\n",
       "min      390.000000   10.000000        1.000000\n",
       "25%     1052.500000   28.655000        2.000000\n",
       "50%     1564.500000   46.100000        3.000000\n",
       "75%     2348.000000   73.000000        4.000000\n",
       "max    25000.000000  415.000000       10.000000"
      ]
     },
     "execution_count": 3,
     "metadata": {},
     "output_type": "execute_result"
    }
   ],
   "source": [
    "house_data.describe()"
   ]
  },
  {
   "cell_type": "code",
   "execution_count": 4,
   "metadata": {},
   "outputs": [
    {
     "name": "stdout",
     "output_type": "stream",
     "text": [
      "[[   nan    nan  1100.    nan   545.]\n",
      " [   nan    nan   402.    nan    nan]\n",
      " [   nan    nan   519.    nan    nan]\n",
      " ...\n",
      " [ 5950.    nan    nan    nan    nan]\n",
      " [14980.    nan    nan    nan    nan]\n",
      " [   nan    nan    nan 25000.    nan]]\n"
     ]
    },
    {
     "data": {
      "text/html": [
       "<div>\n",
       "<style scoped>\n",
       "    .dataframe tbody tr th:only-of-type {\n",
       "        vertical-align: middle;\n",
       "    }\n",
       "\n",
       "    .dataframe tbody tr th {\n",
       "        vertical-align: top;\n",
       "    }\n",
       "\n",
       "    .dataframe thead th {\n",
       "        text-align: right;\n",
       "    }\n",
       "</style>\n",
       "<table border=\"1\" class=\"dataframe\">\n",
       "  <thead>\n",
       "    <tr style=\"text-align: right;\">\n",
       "      <th>arrondissement</th>\n",
       "      <th>1</th>\n",
       "      <th>2</th>\n",
       "      <th>3</th>\n",
       "      <th>4</th>\n",
       "      <th>10</th>\n",
       "    </tr>\n",
       "    <tr>\n",
       "      <th>surface</th>\n",
       "      <th></th>\n",
       "      <th></th>\n",
       "      <th></th>\n",
       "      <th></th>\n",
       "      <th></th>\n",
       "    </tr>\n",
       "  </thead>\n",
       "  <tbody>\n",
       "    <tr>\n",
       "      <th>10.00</th>\n",
       "      <td>NaN</td>\n",
       "      <td>NaN</td>\n",
       "      <td>1100.0</td>\n",
       "      <td>NaN</td>\n",
       "      <td>545.0</td>\n",
       "    </tr>\n",
       "    <tr>\n",
       "      <th>10.10</th>\n",
       "      <td>NaN</td>\n",
       "      <td>NaN</td>\n",
       "      <td>402.0</td>\n",
       "      <td>NaN</td>\n",
       "      <td>NaN</td>\n",
       "    </tr>\n",
       "    <tr>\n",
       "      <th>11.70</th>\n",
       "      <td>NaN</td>\n",
       "      <td>NaN</td>\n",
       "      <td>519.0</td>\n",
       "      <td>NaN</td>\n",
       "      <td>NaN</td>\n",
       "    </tr>\n",
       "    <tr>\n",
       "      <th>12.00</th>\n",
       "      <td>650.0</td>\n",
       "      <td>NaN</td>\n",
       "      <td>NaN</td>\n",
       "      <td>NaN</td>\n",
       "      <td>515.0</td>\n",
       "    </tr>\n",
       "    <tr>\n",
       "      <th>12.01</th>\n",
       "      <td>NaN</td>\n",
       "      <td>NaN</td>\n",
       "      <td>600.0</td>\n",
       "      <td>NaN</td>\n",
       "      <td>NaN</td>\n",
       "    </tr>\n",
       "  </tbody>\n",
       "</table>\n",
       "</div>"
      ],
      "text/plain": [
       "arrondissement     1   2       3   4      10\n",
       "surface                                     \n",
       "10.00             NaN NaN  1100.0 NaN  545.0\n",
       "10.10             NaN NaN   402.0 NaN    NaN\n",
       "11.70             NaN NaN   519.0 NaN    NaN\n",
       "12.00           650.0 NaN     NaN NaN  515.0\n",
       "12.01             NaN NaN   600.0 NaN    NaN"
      ]
     },
     "execution_count": 4,
     "metadata": {},
     "output_type": "execute_result"
    }
   ],
   "source": [
    "tmp = house_data.pivot_table('price', index='surface',\n",
    "                     columns='arrondissement')\n",
    "\n",
    "print(tmp.values)\n",
    "tmp.head()"
   ]
  },
  {
   "cell_type": "code",
   "execution_count": 5,
   "metadata": {},
   "outputs": [
    {
     "data": {
      "image/png": "[encoded data removed]",
      "text/plain": [
       "<Figure size 432x288 with 1 Axes>"
      ]
     },
     "metadata": {
      "needs_background": "light"
     },
     "output_type": "display_data"
    }
   ],
   "source": [
    "%matplotlib inline\n",
    "\n",
    "fig = plt.figure()\n",
    "\n",
    "plt.grid(True)\n",
    "plt.title(\"Repartition des loyers / surface (par arrondissement)\")\n",
    "\n",
    "plt.xlabel('surface')\n",
    "plt.ylabel('loyer')\n",
    "\n",
    "plt.scatter(tmp.index, tmp[1].values, label='1')\n",
    "plt.scatter(tmp.index, tmp[2].values, label='2')\n",
    "plt.scatter(tmp.index, tmp[3].values, label='3')\n",
    "plt.scatter(tmp.index, tmp[4].values, label='4')\n",
    "plt.scatter(tmp.index, tmp[10].values, label='10')\n",
    "\n",
    "plt.legend()\n",
    "plt.show()"
   ]
  },
  {
   "cell_type": "markdown",
   "metadata": {},
   "source": [
    "## Elimination des valeurs"
   ]
  },
  {
   "cell_type": "code",
   "execution_count": 10,
   "metadata": {},
   "outputs": [
    {
     "data": {
      "image/png": "[encoded data removed]",
      "text/plain": [
       "<Figure size 432x288 with 1 Axes>"
      ]
     },
     "metadata": {
      "needs_background": "light"
     },
     "output_type": "display_data"
    }
   ],
   "source": [
    "house_data = house_data[house_data['price'] < 12000]\n",
    "\n",
    "tmp = house_data.pivot_table('price', index='surface',\n",
    "                     columns='arrondissement')\n",
    "\n",
    "%matplotlib inline\n",
    "\n",
    "fig = plt.figure()\n",
    "\n",
    "plt.grid(True)\n",
    "plt.title(\"Repartition des loyers / surface (par arrondissement)\")\n",
    "\n",
    "plt.xlabel('surface')\n",
    "plt.ylabel('loyer')\n",
    "\n",
    "plt.scatter(tmp.index, tmp[1].values, label='1')\n",
    "plt.scatter(tmp.index, tmp[2].values, label='2')\n",
    "plt.scatter(tmp.index, tmp[3].values, label='3')\n",
    "plt.scatter(tmp.index, tmp[4].values, label='4')\n",
    "plt.scatter(tmp.index, tmp[10].values, label='10')\n",
    "\n",
    "plt.legend()\n",
    "plt.show()"
   ]
  },
  {
   "cell_type": "markdown",
   "metadata": {},
   "source": [
    "## Séparation en training / testing set\n",
    "\n",
    "Nous choisissons de séparer les données avec les proportions suivantes : 80 % pour le training set et 20 % pour le testing set."
   ]
  },
  {
   "cell_type": "code",
   "execution_count": 14,
   "metadata": {},
   "outputs": [],
   "source": [
    "from sklearn.model_selection import train_test_split\n",
    "\n",
    "x = house_data\n",
    "y = house_data.price\n",
    "\n",
    "X_train, X_test, y_train, y_test = train_test_split(house_data, house_data.price,\n",
    "                                                    train_size=0.8, test_size=0.2)"
   ]
  },
  {
   "cell_type": "code",
   "execution_count": 15,
   "metadata": {},
   "outputs": [
    {
     "data": {
      "text/html": [
       "<div>\n",
       "<style scoped>\n",
       "    .dataframe tbody tr th:only-of-type {\n",
       "        vertical-align: middle;\n",
       "    }\n",
       "\n",
       "    .dataframe tbody tr th {\n",
       "        vertical-align: top;\n",
       "    }\n",
       "\n",
       "    .dataframe thead th {\n",
       "        text-align: right;\n",
       "    }\n",
       "</style>\n",
       "<table border=\"1\" class=\"dataframe\">\n",
       "  <thead>\n",
       "    <tr style=\"text-align: right;\">\n",
       "      <th></th>\n",
       "      <th>price</th>\n",
       "      <th>surface</th>\n",
       "      <th>arrondissement</th>\n",
       "    </tr>\n",
       "  </thead>\n",
       "  <tbody>\n",
       "    <tr>\n",
       "      <th>702</th>\n",
       "      <td>1100</td>\n",
       "      <td>34.0</td>\n",
       "      <td>10</td>\n",
       "    </tr>\n",
       "    <tr>\n",
       "      <th>681</th>\n",
       "      <td>800</td>\n",
       "      <td>21.0</td>\n",
       "      <td>10</td>\n",
       "    </tr>\n",
       "    <tr>\n",
       "      <th>821</th>\n",
       "      <td>795</td>\n",
       "      <td>25.0</td>\n",
       "      <td>10</td>\n",
       "    </tr>\n",
       "    <tr>\n",
       "      <th>368</th>\n",
       "      <td>950</td>\n",
       "      <td>29.0</td>\n",
       "      <td>3</td>\n",
       "    </tr>\n",
       "    <tr>\n",
       "      <th>569</th>\n",
       "      <td>1690</td>\n",
       "      <td>56.0</td>\n",
       "      <td>4</td>\n",
       "    </tr>\n",
       "  </tbody>\n",
       "</table>\n",
       "</div>"
      ],
      "text/plain": [
       "     price  surface  arrondissement\n",
       "702   1100     34.0              10\n",
       "681    800     21.0              10\n",
       "821    795     25.0              10\n",
       "368    950     29.0               3\n",
       "569   1690     56.0               4"
      ]
     },
     "execution_count": 15,
     "metadata": {},
     "output_type": "execute_result"
    }
   ],
   "source": [
    "X_train.head()"
   ]
  },
  {
   "cell_type": "code",
   "execution_count": 19,
   "metadata": {},
   "outputs": [
    {
     "name": "stdout",
     "output_type": "stream",
     "text": [
      "LinearRegression(copy_X=True, fit_intercept=True, n_jobs=None,\n",
      "         normalize=False)\n",
      "[2485. 1750. 1640. 2500. 3750. 2500.  830. 1850. 3200. 2180. 1177. 3020.\n",
      " 1150. 1000. 2200. 3040. 1375. 1150. 1500. 2371.  950. 1101. 2536.  900.\n",
      "  754. 1650. 4340. 1150. 2100. 3587.  800. 2300. 1921. 2375. 1850. 2700.\n",
      " 1160. 2750. 1700. 2320. 1430. 1050. 1670.  550. 1100. 1250. 1275. 2090.\n",
      "  950.  890. 1100.  899. 3400. 2780. 1180.  715. 3250. 2650.  750. 1375.\n",
      "  795. 1800.  860. 1820. 1280. 1605. 1945. 1462. 1835. 2900. 1250. 1700.\n",
      "  750. 1590. 3000. 1667. 1246.  712. 3400. 5000. 2310. 1138. 2280. 2212.\n",
      " 1280. 1770. 2100. 1280. 1176.  784. 5950. 2500. 3000. 4600.  550. 2216.\n",
      " 1750. 1000. 1423. 1200. 3000. 1100.  850. 1290. 1950. 1000. 1350. 1500.\n",
      " 3000. 4600. 2309. 3480. 2100. 1002. 2970. 3900. 2614.  945. 1530. 3000.\n",
      " 1450. 1185. 2300. 1060. 5500. 1995. 1295. 1250. 1140.  570. 1375. 1333.\n",
      " 1200.  799. 1624.  930. 2614. 2955.  969.  647. 1350. 5000. 1000. 2155.\n",
      " 1400. 3000. 3000. 2382. 1400. 1450.  600. 1460.  899. 1087. 2145. 3700.\n",
      " 2300. 1375.  745. 2050. 1003.  830.  780.]\n"
     ]
    }
   ],
   "source": [
    "from sklearn import linear_model\n",
    "\n",
    "# fit a model\n",
    "\n",
    "lm = linear_model.LinearRegression()\n",
    "\n",
    "model = lm.fit(X_train, y_train)\n",
    "predictions = lm.predict(X_test)\n",
    "\n",
    "\n",
    "print(model)\n",
    "print(y_test, predictions)"
   ]
  },
  {
   "cell_type": "code",
   "execution_count": 22,
   "metadata": {},
   "outputs": [
    {
     "name": "stderr",
     "output_type": "stream",
     "text": [
      "No handles with labels found to put in legend.\n"
     ]
    },
    {
     "data": {
      "image/png": "[encoded data removed]",
      "text/plain": [
       "<Figure size 432x288 with 1 Axes>"
      ]
     },
     "metadata": {
      "needs_background": "light"
     },
     "output_type": "display_data"
    }
   ],
   "source": [
    "%matplotlib inline\n",
    "\n",
    "fig = plt.figure()\n",
    "\n",
    "plt.grid(True)\n",
    "plt.title(\"Repartition des loyers / surface (par arrondissement)\")\n",
    "\n",
    "plt.xlabel('surface')\n",
    "plt.ylabel('loyer')\n",
    "\n",
    "plt.scatter(X_test.surface, predictions)\n",
    "# plt.scatter(tmp.index, tmp[1].values, label='1')\n",
    "# plt.scatter(tmp.index, tmp[2].values, label='2')\n",
    "# plt.scatter(tmp.index, tmp[3].values, label='3')\n",
    "# plt.scatter(tmp.index, tmp[4].values, label='4')\n",
    "# plt.scatter(tmp.index, tmp[10].values, label='10')\n",
    "\n",
    "plt.legend()\n",
    "plt.show()"
   ]
  },
  {
   "cell_type": "markdown",
   "metadata": {},
   "source": [
    "Que se passe-t-il si : \n",
    "\n",
    "on change l’hypothèse de linéarité (une droite) et qu’on en prend une autre (un polynôme du second degré par exemple) ?\n",
    "\n",
    "on teste le modèle avec d’autres types d’erreurs que la distance euclidienne ?\n",
    "\n",
    "on ajoute des features (dimensions) supplémentaires en entrée ?\n",
    "\n",
    "au fur et à mesure que la surface augmente, les données ont l'air d'être de plus en plus \"éparses\" : comment intégrer ce comportement dans ma modélisation ?"
   ]
  }
 ],
 "metadata": {
  "kernelspec": {
   "display_name": "Python 3",
   "language": "python",
   "name": "python3"
  },
  "language_info": {
   "codemirror_mode": {
    "name": "ipython",
    "version": 3
   },
   "file_extension": ".py",
   "mimetype": "text/x-python",
   "name": "python",
   "nbconvert_exporter": "python",
   "pygments_lexer": "ipython3",
   "version": "3.6.7"
  }
 },
 "nbformat": 4,
 "nbformat_minor": 2
}
