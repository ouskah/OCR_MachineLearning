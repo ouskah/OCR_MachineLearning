{
 "cells": [
  {
   "cell_type": "markdown",
   "metadata": {},
   "source": [
    "# Prédiction de loyers\n",
    "\n",
    "## Consignes\n",
    "\n",
    "Reprendre le code du TP de régression linéaire et de tester plusieurs manières d'améliorer la modélisation à l'aide de cette nouvelle observation.\n",
    "\n",
    "Voici ce qu'on attend de vous :\n",
    "\n",
    "- une séparation en training / testing set\n",
    "- 2 propositions d'amélioration du modèle qui obtiennent de meilleures performances que la \"baseline\" (la régression linéaire avec une seule feature)\n",
    "- Une sélection d'un modèle final à partir des performances\n",
    "\n",
    "## Exercice\n",
    "\n",
    "Les principales étapes de l'exercice sont les suivantes:\n",
    "\n",
    "- Chargement des données\n",
    "- Vérification rapide des données\n",
    "- Nettoyage des données et élimination des valeurs isolées\n",
    "- Modèles\n",
    "    - Baseline - \n",
    "    - Modèle 1 - Régression linéaire avec 2 features (ie, surface, arrondissement)\n",
    "    - Modèle 2 -\n",
    "\n",
    "A noter que pour  chaque modèle la séparation en *training / testing set* est effectué de la meme manière en utilisant le paramètre `random_state=42` dans l'appel de la fonction `train_test_split`"
   ]
  },
  {
   "cell_type": "markdown",
   "metadata": {},
   "source": [
    "### Chargement des données"
   ]
  },
  {
   "cell_type": "code",
   "execution_count": 1,
   "metadata": {},
   "outputs": [
    {
     "name": "stdout",
     "output_type": "stream",
     "text": [
      "price               int64\n",
      "surface           float64\n",
      "arrondissement    float64\n",
      "dtype: object\n",
      "Ce dataset contient 827 lignes\n"
     ]
    }
   ],
   "source": [
    "%matplotlib inline\n",
    "\n",
    "# On importe les librairies dont on aura besoin pour ce tp\n",
    "import numpy as np\n",
    "import pandas as pd\n",
    "import matplotlib.pyplot as plt\n",
    "\n",
    "from sklearn.model_selection import train_test_split\n",
    "from sklearn import linear_model, metrics\n",
    "\n",
    "\n",
    "# On charge le dataset\n",
    "house_data = pd.read_csv('house_data.csv')\n",
    "\n",
    "# structure & types\n",
    "print(house_data.dtypes)\n",
    "\n",
    "print(\"Ce dataset contient {:d} lignes\".format(len(house_data)))"
   ]
  },
  {
   "cell_type": "markdown",
   "metadata": {},
   "source": [
    "### Vérification rapide des données"
   ]
  },
  {
   "cell_type": "code",
   "execution_count": 2,
   "metadata": {},
   "outputs": [
    {
     "data": {
      "text/html": [
       "<div>\n",
       "<style scoped>\n",
       "    .dataframe tbody tr th:only-of-type {\n",
       "        vertical-align: middle;\n",
       "    }\n",
       "\n",
       "    .dataframe tbody tr th {\n",
       "        vertical-align: top;\n",
       "    }\n",
       "\n",
       "    .dataframe thead th {\n",
       "        text-align: right;\n",
       "    }\n",
       "</style>\n",
       "<table border=\"1\" class=\"dataframe\">\n",
       "  <thead>\n",
       "    <tr style=\"text-align: right;\">\n",
       "      <th></th>\n",
       "      <th>price</th>\n",
       "      <th>surface</th>\n",
       "      <th>arrondissement</th>\n",
       "    </tr>\n",
       "  </thead>\n",
       "  <tbody>\n",
       "    <tr>\n",
       "      <th>0</th>\n",
       "      <td>1820</td>\n",
       "      <td>46.1</td>\n",
       "      <td>1.0</td>\n",
       "    </tr>\n",
       "    <tr>\n",
       "      <th>1</th>\n",
       "      <td>1750</td>\n",
       "      <td>41.0</td>\n",
       "      <td>1.0</td>\n",
       "    </tr>\n",
       "    <tr>\n",
       "      <th>2</th>\n",
       "      <td>1900</td>\n",
       "      <td>55.0</td>\n",
       "      <td>1.0</td>\n",
       "    </tr>\n",
       "    <tr>\n",
       "      <th>3</th>\n",
       "      <td>1950</td>\n",
       "      <td>46.0</td>\n",
       "      <td>1.0</td>\n",
       "    </tr>\n",
       "    <tr>\n",
       "      <th>4</th>\n",
       "      <td>1950</td>\n",
       "      <td>49.0</td>\n",
       "      <td>1.0</td>\n",
       "    </tr>\n",
       "  </tbody>\n",
       "</table>\n",
       "</div>"
      ],
      "text/plain": [
       "   price  surface  arrondissement\n",
       "0   1820     46.1             1.0\n",
       "1   1750     41.0             1.0\n",
       "2   1900     55.0             1.0\n",
       "3   1950     46.0             1.0\n",
       "4   1950     49.0             1.0"
      ]
     },
     "execution_count": 2,
     "metadata": {},
     "output_type": "execute_result"
    }
   ],
   "source": [
    "house_data.head()"
   ]
  },
  {
   "cell_type": "code",
   "execution_count": 3,
   "metadata": {},
   "outputs": [
    {
     "data": {
      "text/html": [
       "<div>\n",
       "<style scoped>\n",
       "    .dataframe tbody tr th:only-of-type {\n",
       "        vertical-align: middle;\n",
       "    }\n",
       "\n",
       "    .dataframe tbody tr th {\n",
       "        vertical-align: top;\n",
       "    }\n",
       "\n",
       "    .dataframe thead th {\n",
       "        text-align: right;\n",
       "    }\n",
       "</style>\n",
       "<table border=\"1\" class=\"dataframe\">\n",
       "  <thead>\n",
       "    <tr style=\"text-align: right;\">\n",
       "      <th></th>\n",
       "      <th>price</th>\n",
       "      <th>surface</th>\n",
       "      <th>arrondissement</th>\n",
       "    </tr>\n",
       "  </thead>\n",
       "  <tbody>\n",
       "    <tr>\n",
       "      <th>822</th>\n",
       "      <td>850</td>\n",
       "      <td>35.00</td>\n",
       "      <td>10.0</td>\n",
       "    </tr>\n",
       "    <tr>\n",
       "      <th>823</th>\n",
       "      <td>700</td>\n",
       "      <td>10.00</td>\n",
       "      <td>10.0</td>\n",
       "    </tr>\n",
       "    <tr>\n",
       "      <th>824</th>\n",
       "      <td>1280</td>\n",
       "      <td>34.00</td>\n",
       "      <td>10.0</td>\n",
       "    </tr>\n",
       "    <tr>\n",
       "      <th>825</th>\n",
       "      <td>1545</td>\n",
       "      <td>65.00</td>\n",
       "      <td>10.0</td>\n",
       "    </tr>\n",
       "    <tr>\n",
       "      <th>826</th>\n",
       "      <td>1000</td>\n",
       "      <td>21.43</td>\n",
       "      <td>10.0</td>\n",
       "    </tr>\n",
       "  </tbody>\n",
       "</table>\n",
       "</div>"
      ],
      "text/plain": [
       "     price  surface  arrondissement\n",
       "822    850    35.00            10.0\n",
       "823    700    10.00            10.0\n",
       "824   1280    34.00            10.0\n",
       "825   1545    65.00            10.0\n",
       "826   1000    21.43            10.0"
      ]
     },
     "execution_count": 3,
     "metadata": {},
     "output_type": "execute_result"
    }
   ],
   "source": [
    "house_data.tail()"
   ]
  },
  {
   "cell_type": "code",
   "execution_count": 4,
   "metadata": {},
   "outputs": [
    {
     "data": {
      "text/html": [
       "<div>\n",
       "<style scoped>\n",
       "    .dataframe tbody tr th:only-of-type {\n",
       "        vertical-align: middle;\n",
       "    }\n",
       "\n",
       "    .dataframe tbody tr th {\n",
       "        vertical-align: top;\n",
       "    }\n",
       "\n",
       "    .dataframe thead th {\n",
       "        text-align: right;\n",
       "    }\n",
       "</style>\n",
       "<table border=\"1\" class=\"dataframe\">\n",
       "  <thead>\n",
       "    <tr style=\"text-align: right;\">\n",
       "      <th></th>\n",
       "      <th>price</th>\n",
       "      <th>surface</th>\n",
       "      <th>arrondissement</th>\n",
       "    </tr>\n",
       "  </thead>\n",
       "  <tbody>\n",
       "    <tr>\n",
       "      <th>count</th>\n",
       "      <td>827.000000</td>\n",
       "      <td>822.000000</td>\n",
       "      <td>822.000000</td>\n",
       "    </tr>\n",
       "    <tr>\n",
       "      <th>mean</th>\n",
       "      <td>2007.342201</td>\n",
       "      <td>58.045925</td>\n",
       "      <td>4.142336</td>\n",
       "    </tr>\n",
       "    <tr>\n",
       "      <th>std</th>\n",
       "      <td>1890.894229</td>\n",
       "      <td>44.827522</td>\n",
       "      <td>3.202151</td>\n",
       "    </tr>\n",
       "    <tr>\n",
       "      <th>min</th>\n",
       "      <td>390.000000</td>\n",
       "      <td>10.000000</td>\n",
       "      <td>1.000000</td>\n",
       "    </tr>\n",
       "    <tr>\n",
       "      <th>25%</th>\n",
       "      <td>1050.000000</td>\n",
       "      <td>28.655000</td>\n",
       "      <td>2.000000</td>\n",
       "    </tr>\n",
       "    <tr>\n",
       "      <th>50%</th>\n",
       "      <td>1567.000000</td>\n",
       "      <td>46.100000</td>\n",
       "      <td>3.000000</td>\n",
       "    </tr>\n",
       "    <tr>\n",
       "      <th>75%</th>\n",
       "      <td>2346.000000</td>\n",
       "      <td>73.000000</td>\n",
       "      <td>4.000000</td>\n",
       "    </tr>\n",
       "    <tr>\n",
       "      <th>max</th>\n",
       "      <td>25000.000000</td>\n",
       "      <td>415.000000</td>\n",
       "      <td>10.000000</td>\n",
       "    </tr>\n",
       "  </tbody>\n",
       "</table>\n",
       "</div>"
      ],
      "text/plain": [
       "              price     surface  arrondissement\n",
       "count    827.000000  822.000000      822.000000\n",
       "mean    2007.342201   58.045925        4.142336\n",
       "std     1890.894229   44.827522        3.202151\n",
       "min      390.000000   10.000000        1.000000\n",
       "25%     1050.000000   28.655000        2.000000\n",
       "50%     1567.000000   46.100000        3.000000\n",
       "75%     2346.000000   73.000000        4.000000\n",
       "max    25000.000000  415.000000       10.000000"
      ]
     },
     "execution_count": 4,
     "metadata": {},
     "output_type": "execute_result"
    }
   ],
   "source": [
    "house_data.describe()"
   ]
  },
  {
   "cell_type": "code",
   "execution_count": 5,
   "metadata": {},
   "outputs": [
    {
     "data": {
      "text/html": [
       "<div>\n",
       "<style scoped>\n",
       "    .dataframe tbody tr th:only-of-type {\n",
       "        vertical-align: middle;\n",
       "    }\n",
       "\n",
       "    .dataframe tbody tr th {\n",
       "        vertical-align: top;\n",
       "    }\n",
       "\n",
       "    .dataframe thead th {\n",
       "        text-align: right;\n",
       "    }\n",
       "</style>\n",
       "<table border=\"1\" class=\"dataframe\">\n",
       "  <thead>\n",
       "    <tr style=\"text-align: right;\">\n",
       "      <th>arrondissement</th>\n",
       "      <th>1.0</th>\n",
       "      <th>2.0</th>\n",
       "      <th>3.0</th>\n",
       "      <th>4.0</th>\n",
       "      <th>10.0</th>\n",
       "    </tr>\n",
       "    <tr>\n",
       "      <th>surface</th>\n",
       "      <th></th>\n",
       "      <th></th>\n",
       "      <th></th>\n",
       "      <th></th>\n",
       "      <th></th>\n",
       "    </tr>\n",
       "  </thead>\n",
       "  <tbody>\n",
       "    <tr>\n",
       "      <th>10.00</th>\n",
       "      <td>NaN</td>\n",
       "      <td>NaN</td>\n",
       "      <td>1100.0</td>\n",
       "      <td>NaN</td>\n",
       "      <td>545.0</td>\n",
       "    </tr>\n",
       "    <tr>\n",
       "      <th>10.10</th>\n",
       "      <td>NaN</td>\n",
       "      <td>NaN</td>\n",
       "      <td>402.0</td>\n",
       "      <td>NaN</td>\n",
       "      <td>NaN</td>\n",
       "    </tr>\n",
       "    <tr>\n",
       "      <th>11.70</th>\n",
       "      <td>NaN</td>\n",
       "      <td>NaN</td>\n",
       "      <td>519.0</td>\n",
       "      <td>NaN</td>\n",
       "      <td>NaN</td>\n",
       "    </tr>\n",
       "    <tr>\n",
       "      <th>12.00</th>\n",
       "      <td>650.0</td>\n",
       "      <td>NaN</td>\n",
       "      <td>NaN</td>\n",
       "      <td>NaN</td>\n",
       "      <td>515.0</td>\n",
       "    </tr>\n",
       "    <tr>\n",
       "      <th>12.01</th>\n",
       "      <td>NaN</td>\n",
       "      <td>NaN</td>\n",
       "      <td>600.0</td>\n",
       "      <td>NaN</td>\n",
       "      <td>NaN</td>\n",
       "    </tr>\n",
       "  </tbody>\n",
       "</table>\n",
       "</div>"
      ],
      "text/plain": [
       "arrondissement   1.0   2.0     3.0   4.0    10.0\n",
       "surface                                         \n",
       "10.00             NaN   NaN  1100.0   NaN  545.0\n",
       "10.10             NaN   NaN   402.0   NaN    NaN\n",
       "11.70             NaN   NaN   519.0   NaN    NaN\n",
       "12.00           650.0   NaN     NaN   NaN  515.0\n",
       "12.01             NaN   NaN   600.0   NaN    NaN"
      ]
     },
     "execution_count": 5,
     "metadata": {},
     "output_type": "execute_result"
    }
   ],
   "source": [
    "tmp = house_data.pivot_table('price', index='surface',\n",
    "                     columns='arrondissement')\n",
    "\n",
    "tmp.head()"
   ]
  },
  {
   "cell_type": "code",
   "execution_count": 6,
   "metadata": {},
   "outputs": [
    {
     "data": {
      "image/png": "[encoded data removed]",
      "text/plain": [
       "<Figure size 432x288 with 1 Axes>"
      ]
     },
     "metadata": {
      "needs_background": "light"
     },
     "output_type": "display_data"
    }
   ],
   "source": [
    "fig = plt.figure()\n",
    "\n",
    "plt.grid(True)\n",
    "plt.title(\"Repartition des loyers / surface (par arrondissement)\")\n",
    "\n",
    "plt.xlabel('surface')\n",
    "plt.ylabel('loyer')\n",
    "\n",
    "plt.scatter(tmp.index, tmp[1].values, label='1')\n",
    "plt.scatter(tmp.index, tmp[2].values, label='2')\n",
    "plt.scatter(tmp.index, tmp[3].values, label='3')\n",
    "plt.scatter(tmp.index, tmp[4].values, label='4')\n",
    "plt.scatter(tmp.index, tmp[10].values, label='10')\n",
    "\n",
    "plt.legend()\n",
    "plt.show()"
   ]
  },
  {
   "cell_type": "markdown",
   "metadata": {},
   "source": [
    "### Nettoyage des données et élimination des valeurs isolées"
   ]
  },
  {
   "cell_type": "code",
   "execution_count": 7,
   "metadata": {},
   "outputs": [
    {
     "data": {
      "image/png": "[encoded data removed]",
      "text/plain": [
       "<Figure size 432x288 with 1 Axes>"
      ]
     },
     "metadata": {
      "needs_background": "light"
     },
     "output_type": "display_data"
    }
   ],
   "source": [
    "house_data.dropna(inplace=True)\n",
    "\n",
    "# cast `arrondissement` array en entier \n",
    "house_data.arrondissement = house_data.arrondissement.astype(np.int64)\n",
    "\n",
    "house_data = house_data[house_data['price'] < 12000]\n",
    "\n",
    "tmp = house_data.pivot_table('price', index='surface',\n",
    "                     columns='arrondissement')\n",
    "\n",
    "%matplotlib inline\n",
    "\n",
    "fig = plt.figure()\n",
    "\n",
    "plt.grid(True)\n",
    "plt.title(\"Repartition des loyers / surface (par arrondissement)\")\n",
    "\n",
    "plt.xlabel('surface')\n",
    "plt.ylabel('loyer')\n",
    "\n",
    "plt.scatter(tmp.index, tmp[1].values, label='1')\n",
    "plt.scatter(tmp.index, tmp[2].values, label='2')\n",
    "plt.scatter(tmp.index, tmp[3].values, label='3')\n",
    "plt.scatter(tmp.index, tmp[4].values, label='4')\n",
    "plt.scatter(tmp.index, tmp[10].values, label='10')\n",
    "\n",
    "plt.legend()\n",
    "plt.show()"
   ]
  },
  {
   "cell_type": "markdown",
   "metadata": {},
   "source": [
    "### Séparation en training / testing set\n",
    "\n",
    "Nous choisissons de séparer les données avec les proportions suivantes : 80 % pour le training set et 20 % pour le testing set."
   ]
  },
  {
   "cell_type": "code",
   "execution_count": 8,
   "metadata": {},
   "outputs": [
    {
     "data": {
      "text/html": [
       "<div>\n",
       "<style scoped>\n",
       "    .dataframe tbody tr th:only-of-type {\n",
       "        vertical-align: middle;\n",
       "    }\n",
       "\n",
       "    .dataframe tbody tr th {\n",
       "        vertical-align: top;\n",
       "    }\n",
       "\n",
       "    .dataframe thead th {\n",
       "        text-align: right;\n",
       "    }\n",
       "</style>\n",
       "<table border=\"1\" class=\"dataframe\">\n",
       "  <thead>\n",
       "    <tr style=\"text-align: right;\">\n",
       "      <th></th>\n",
       "      <th>surface</th>\n",
       "      <th>arrondissement</th>\n",
       "    </tr>\n",
       "  </thead>\n",
       "  <tbody>\n",
       "    <tr>\n",
       "      <th>683</th>\n",
       "      <td>18.0</td>\n",
       "      <td>10</td>\n",
       "    </tr>\n",
       "    <tr>\n",
       "      <th>455</th>\n",
       "      <td>114.0</td>\n",
       "      <td>3</td>\n",
       "    </tr>\n",
       "    <tr>\n",
       "      <th>343</th>\n",
       "      <td>30.0</td>\n",
       "      <td>3</td>\n",
       "    </tr>\n",
       "    <tr>\n",
       "      <th>301</th>\n",
       "      <td>43.0</td>\n",
       "      <td>3</td>\n",
       "    </tr>\n",
       "    <tr>\n",
       "      <th>383</th>\n",
       "      <td>55.0</td>\n",
       "      <td>3</td>\n",
       "    </tr>\n",
       "  </tbody>\n",
       "</table>\n",
       "</div>"
      ],
      "text/plain": [
       "     surface  arrondissement\n",
       "683     18.0              10\n",
       "455    114.0               3\n",
       "343     30.0               3\n",
       "301     43.0               3\n",
       "383     55.0               3"
      ]
     },
     "execution_count": 8,
     "metadata": {},
     "output_type": "execute_result"
    }
   ],
   "source": [
    "x = house_data.drop(columns=['price'])\n",
    "y = house_data.drop(columns=['surface', 'arrondissement'])\n",
    "\n",
    "# le parametre random_state permet de controler la repetabilite de l'experience\n",
    "X_train, X_test, y_train, y_test = train_test_split(x, y,\n",
    "                                                    train_size=0.8,\n",
    "                                                    test_size=0.2,\n",
    "                                                    random_state=42)\n",
    "\n",
    "X_train.head()"
   ]
  },
  {
   "cell_type": "markdown",
   "metadata": {},
   "source": [
    "### Modèle 0 (baseline) - Régression linéaire avec seulement 1 *feature* (ie, surface) "
   ]
  },
  {
   "cell_type": "code",
   "execution_count": 9,
   "metadata": {},
   "outputs": [
    {
     "name": "stdout",
     "output_type": "stream",
     "text": [
      "Model 0 (baseline):\n",
      "==================\n",
      "\t coef = [30.57669526] \n",
      "\t intercept = [185.86414836] \n",
      "=> linear regression (1 features)\n",
      "\tRMS = 475.30122\n",
      "\tR2 = 0.83 %\n",
      "\n"
     ]
    }
   ],
   "source": [
    "# select data \n",
    "x = house_data.drop(columns=['price', 'arrondissement'])\n",
    "y = house_data.drop(columns=['surface', 'arrondissement'])\n",
    "\n",
    "# le parametre random_state permet de controler la repetabilite de l'experience\n",
    "X_train, X_test, y_train, y_test = train_test_split(x, y,\n",
    "                                                    train_size=0.8,\n",
    "                                                    test_size=0.2,\n",
    "                                                    random_state=42)\n",
    "\n",
    "# fit a model\n",
    "lm = linear_model.LinearRegression()\n",
    "\n",
    "model_00 = lm.fit(X_train, y_train)\n",
    "\n",
    "print(\"Model 0 (baseline):\\n==================\")\n",
    "print(\"\\t coef = {} \".format(model_00.coef_[0]))\n",
    "print(\"\\t intercept = {} \".format(model_00.intercept_))\n",
    "\n",
    "y_pred = lm.predict(X_test)\n",
    "\n",
    "rmse_00 = np.sqrt(metrics.mean_squared_error(y_test, y_pred))\n",
    "r2_00 = metrics.r2_score(y_test, y_pred)\n",
    "\n",
    "print(\"=> linear regression (1 features)\\n\"\n",
    "      \"\\tRMS = {:.5f}\\n\"\n",
    "      \"\\tR2 = {:.2f} %\\n\"\n",
    "      .format(rmse_00, r2_00))\n",
    "      "
   ]
  },
  {
   "cell_type": "code",
   "execution_count": 10,
   "metadata": {},
   "outputs": [
    {
     "data": {
      "image/png": "[encoded data removed]",
      "text/plain": [
       "<Figure size 432x288 with 1 Axes>"
      ]
     },
     "metadata": {
      "needs_background": "light"
     },
     "output_type": "display_data"
    }
   ],
   "source": [
    "x_min_00 = X_test.surface.min()\n",
    "x_max_00 = X_test.surface.max()\n",
    "\n",
    "y_min_00 = model_00.intercept_ + model_00.coef_[0][0] * x_min_00 \n",
    "y_max_00 = model_00.intercept_ + model_00.coef_[0][0] * x_max_00\n",
    "\n",
    "fig = plt.figure()\n",
    "\n",
    "plt.grid(True)\n",
    "plt.title(\"Baseline - Repartition des loyers / surface\")\n",
    "\n",
    "plt.xlabel('surface')\n",
    "plt.ylabel('loyer')\n",
    "\n",
    "plt.scatter(x, y, color='blue')\n",
    "plt.plot([x_min_00, x_max_00], [y_min_00, y_max_00], color='red')\n",
    "\n",
    "plt.show()"
   ]
  },
  {
   "cell_type": "markdown",
   "metadata": {},
   "source": [
    "### Modèle 1 - Régression linéaire avec 2 *features* (ie, surface, arrondissement) "
   ]
  },
  {
   "cell_type": "code",
   "execution_count": 11,
   "metadata": {},
   "outputs": [
    {
     "name": "stdout",
     "output_type": "stream",
     "text": [
      "Model 1:\n",
      "=======\n",
      "\t coef = [ 30.23006732 -54.31392129] \n",
      "\t intercept = [433.25497853] \n",
      "=> linear regression (1 features)\n",
      "\tRMS = 478.53330\n",
      "\tR2 = 82.27 %\n",
      "\n"
     ]
    }
   ],
   "source": [
    "# select data \n",
    "x = house_data.drop(columns=['price'])\n",
    "y = house_data.drop(columns=['surface', 'arrondissement'])\n",
    "\n",
    "# le parametre random_state permet de controler la repetabilite de l'experience\n",
    "X_train, X_test, y_train, y_test = train_test_split(x, y,\n",
    "                                                    train_size=0.8,\n",
    "                                                    test_size=0.2,\n",
    "                                                    random_state=42)\n",
    "\n",
    "# fit a model\n",
    "lm = linear_model.LinearRegression()\n",
    "\n",
    "model_01 = lm.fit(X_train, y_train)\n",
    "\n",
    "print(\"Model 1:\\n=======\")\n",
    "print(\"\\t coef = {} \".format(model_01.coef_[0]))\n",
    "print(\"\\t intercept = {} \".format(model_01.intercept_))\n",
    "\n",
    "y_pred = lm.predict(X_test)\n",
    "      \n",
    "rmse_01 = np.sqrt(metrics.mean_squared_error(y_test, y_pred))\n",
    "r2_01 = metrics.r2_score(y_test, y_pred)\n",
    "\n",
    "print(\"=> linear regression (1 features)\\n\"\n",
    "      \"\\tRMS = {:.5f}\\n\"\n",
    "      \"\\tR2 = {:.2f} %\\n\"\n",
    "      .format(rmse_01, r2_01 * 100.0))"
   ]
  },
  {
   "cell_type": "code",
   "execution_count": 12,
   "metadata": {},
   "outputs": [
    {
     "data": {
      "image/png": "[encoded data removed]",
      "text/plain": [
       "<Figure size 432x288 with 1 Axes>"
      ]
     },
     "metadata": {
      "needs_background": "light"
     },
     "output_type": "display_data"
    }
   ],
   "source": [
    "arrdt_list = X_test.arrondissement.unique()\n",
    "arrdt_list.sort()\n",
    "arrdt_list = np.array(arrdt_list)\n",
    "\n",
    "x_min = np.zeros(len(arrdt_list))\n",
    "x_max = np.zeros(len(arrdt_list))\n",
    "y_min = np.zeros(len(arrdt_list))\n",
    "y_max = np.zeros(len(arrdt_list))\n",
    "\n",
    "for idx, arrdt in enumerate(arrdt_list):\n",
    "    x_min[idx] = X_test[X_test.arrondissement==arrdt].surface.min()\n",
    "    x_max[idx] = X_test[X_test.arrondissement==arrdt].surface.max()\n",
    "    \n",
    "    y_min[idx] = model_01.intercept_ \\\n",
    "        + model_01.coef_[0][0] * x_min[idx] \\\n",
    "        + model_01.coef_[0][1] * int(arrdt) \n",
    "    y_max[idx] = model_01.intercept_ \\\n",
    "        + model_01.coef_[0][0] * x_max[idx] \\\n",
    "        + model_01.coef_[0][1] * int(arrdt) \n",
    "    \n",
    "fig = plt.figure()\n",
    "\n",
    "plt.grid(True)\n",
    "plt.title(\"Repartition des loyers / surface (par arrondissement)\")\n",
    "\n",
    "plt.xlabel('surface')\n",
    "plt.ylabel('loyer')\n",
    "\n",
    "plt.scatter(tmp.index, tmp[1].values, label='1')\n",
    "plt.scatter(tmp.index, tmp[2].values, label='2')\n",
    "plt.scatter(tmp.index, tmp[3].values, label='3')\n",
    "plt.scatter(tmp.index, tmp[4].values, label='4')\n",
    "plt.scatter(tmp.index, tmp[10].values, label='10')\n",
    "\n",
    "for idx, arrdt in enumerate(arrdt_list):\n",
    "    plt.plot([x_min[idx], x_max[idx]], [y_min[idx], y_max[idx]])\n",
    "\n",
    "plt.legend()\n",
    "plt.show()"
   ]
  },
  {
   "cell_type": "markdown",
   "metadata": {},
   "source": [
    "### Modèle 2 - Régression polynomiale avec 2 *features* (ie, surface, arrondissement) "
   ]
  },
  {
   "cell_type": "code",
   "execution_count": 13,
   "metadata": {},
   "outputs": [
    {
     "name": "stdout",
     "output_type": "stream",
     "text": [
      "Model 2:\n",
      "=======\n",
      "\t coef = [ 0.         17.62143366  0.08005205] \n",
      "\t intercept = [552.9434717] \n",
      "=>  regression (1 features)\n",
      "\tRMS = 541.54408\n",
      "\tR2 = 77.29 %\n",
      "\n"
     ]
    }
   ],
   "source": [
    "from sklearn.preprocessing import PolynomialFeatures\n",
    "\n",
    "# select data \n",
    "x = house_data.drop(columns=['price', 'arrondissement'])\n",
    "y = house_data.drop(columns=['surface', 'arrondissement'])\n",
    "\n",
    "#print(x)\n",
    "# le parametre random_state permet de controler la repetabilite de l'experience\n",
    "X_train, X_test, y_train, y_test = train_test_split(x, y,\n",
    "                                                    train_size=0.8,\n",
    "                                                    test_size=0.2,\n",
    "                                                    random_state=42)\n",
    "poly_reg = PolynomialFeatures(degree=2)\n",
    "x_poly_train = poly_reg.fit_transform(X_train)\n",
    "\n",
    "lm = linear_model.LinearRegression()\n",
    "model_02 = lm.fit(x_poly_train, y_train)\n",
    "\n",
    "print(\"Model 2:\\n=======\")\n",
    "print(\"\\t coef = {} \".format(model_02.coef_[0]))\n",
    "print(\"\\t intercept = {} \".format(model_02.intercept_))\n",
    "\n",
    "x_poly_test = poly_reg.fit_transform(X_test)\n",
    "y_poly_pred = lm.predict(x_poly_test)\n",
    "\n",
    "rmse_02 = np.sqrt(metrics.mean_squared_error(y_test, y_poly_pred))\n",
    "r2_02 = metrics.r2_score(y_test, y_poly_pred)\n",
    "\n",
    "print(\"=>  regression (1 features)\\n\"\n",
    "      \"\\tRMS = {:.5f}\\n\"\n",
    "      \"\\tR2 = {:.2f} %\\n\"\n",
    "      .format(rmse_02, r2_02 * 100.0))"
   ]
  },
  {
   "cell_type": "code",
   "execution_count": 19,
   "metadata": {},
   "outputs": [
    {
     "name": "stdout",
     "output_type": "stream",
     "text": [
      "(163, 1)\n"
     ]
    },
    {
     "data": {
      "image/png": "[encoded data removed]",
      "text/plain": [
       "<Figure size 432x288 with 1 Axes>"
      ]
     },
     "metadata": {
      "needs_background": "light"
     },
     "output_type": "display_data"
    }
   ],
   "source": [
    "fig = plt.figure()\n",
    "\n",
    "plt.grid(True)\n",
    "plt.title(\"Baseline - Repartition des loyers / surface\")\n",
    "\n",
    "plt.xlabel('surface')\n",
    "plt.ylabel('loyer')\n",
    "\n",
    "plt.scatter(x, y, color='blue')\n",
    "\n",
    "print(y_poly_pred.shape)\n"
   ]
  },
  {
   "cell_type": "code",
   "execution_count": null,
   "metadata": {},
   "outputs": [],
   "source": []
  }
 ],
 "metadata": {
  "kernelspec": {
   "display_name": "Python 3",
   "language": "python",
   "name": "python3"
  },
  "language_info": {
   "codemirror_mode": {
    "name": "ipython",
    "version": 3
   },
   "file_extension": ".py",
   "mimetype": "text/x-python",
   "name": "python",
   "nbconvert_exporter": "python",
   "pygments_lexer": "ipython3",
   "version": "3.6.7"
  }
 },
 "nbformat": 4,
 "nbformat_minor": 2
}
