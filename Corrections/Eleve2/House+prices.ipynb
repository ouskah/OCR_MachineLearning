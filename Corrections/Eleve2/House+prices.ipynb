{
 "cells": [
  {
   "cell_type": "code",
   "execution_count": 9,
   "metadata": {
    "collapsed": true
   },
   "outputs": [],
   "source": [
    "#Importation des librairies\n",
    "\n",
    "import pandas as pd\n",
    "import numpy as np\n",
    "import matplotlib.pyplot as plt\n",
    "from sklearn.model_selection import train_test_split\n",
    "from sklearn import linear_model\n",
    "from sklearn.neighbors import KNeighborsRegressor\n",
    "from sklearn.metrics import mean_squared_error"
   ]
  },
  {
   "cell_type": "code",
   "execution_count": 2,
   "metadata": {
    "collapsed": true
   },
   "outputs": [],
   "source": [
    "#Afficher les graphiques\n",
    "\n",
    "% matplotlib inline"
   ]
  },
  {
   "cell_type": "code",
   "execution_count": 3,
   "metadata": {},
   "outputs": [
    {
     "data": {
      "text/plain": [
       "(827, 3)"
      ]
     },
     "execution_count": 3,
     "metadata": {},
     "output_type": "execute_result"
    }
   ],
   "source": [
    "# Chargement du dataset, traitement des données manquantes\n",
    "\n",
    "house_data = pd.read_csv('C:\\\\Users\\\\guill\\\\Documents\\\\M1 HEC\\\\S2\\MOOC DS\\\\house_data.csv')\n",
    "house_data = house_data.fillna(0)"
   ]
  },
  {
   "cell_type": "code",
   "execution_count": 4,
   "metadata": {},
   "outputs": [
    {
     "data": {
      "text/plain": [
       "array([ 1.,  0.,  2.,  3.,  4., 10.])"
      ]
     },
     "execution_count": 4,
     "metadata": {},
     "output_type": "execute_result"
    }
   ],
   "source": [
    "# Dimensions du dataset\n",
    "\n",
    "house_data.shape"
   ]
  },
  {
   "cell_type": "code",
   "execution_count": 5,
   "metadata": {
    "collapsed": true
   },
   "outputs": [],
   "source": [
    "# Création du vecteur de features et du vecteur de labels\n",
    "\n",
    "x = np.array(house_data[['surface','arrondissement']])\n",
    "y = np.array(house_data['price'])"
   ]
  },
  {
   "cell_type": "code",
   "execution_count": 6,
   "metadata": {
    "collapsed": true
   },
   "outputs": [],
   "source": [
    "# Séparation du dataset en train et test, 80% de train\n",
    "\n",
    "xtrain, xtest, ytrain, ytest = train_test_split(x, y, train_size=0.8)"
   ]
  },
  {
   "cell_type": "code",
   "execution_count": 7,
   "metadata": {},
   "outputs": [
    {
     "data": {
      "text/plain": [
       "LinearRegression(copy_X=True, fit_intercept=True, n_jobs=1, normalize=False)"
      ]
     },
     "execution_count": 7,
     "metadata": {},
     "output_type": "execute_result"
    }
   ],
   "source": [
    "# Premier modèle : régression linéaire simple, avec deux features en entrée. Phase d'apprentissage\n",
    "\n",
    "\n",
    "regr = linear_model.LinearRegression()\n",
    "regr.fit(xtrain, ytrain)"
   ]
  },
  {
   "cell_type": "code",
   "execution_count": 8,
   "metadata": {},
   "outputs": [
    {
     "data": {
      "text/plain": [
       "301785.61024232314"
      ]
     },
     "execution_count": 8,
     "metadata": {},
     "output_type": "execute_result"
    }
   ],
   "source": [
    "#Phase de test\n",
    "\n",
    "yhat = regr.predict(xtest)\n",
    "mean_squared_error(ytest,yhat)\n",
    "\n",
    "#MSE de 301000"
   ]
  },
  {
   "cell_type": "code",
   "execution_count": 15,
   "metadata": {},
   "outputs": [
    {
     "data": {
      "image/png": "[encoded data removed]",
      "text/plain": [
       "<matplotlib.figure.Figure at 0x21fb5c6f080>"
      ]
     },
     "metadata": {},
     "output_type": "display_data"
    }
   ],
   "source": [
    "#On utilise présent la méthode des k plus proche voisins, on optimise le nombre de voisins à choisir en observant\n",
    "#les performances de prédiction pour chaque modèle\n",
    "# On prend toujours en entrée deux features\n",
    "\n",
    "errors = []\n",
    "for i in range(2,15):\n",
    "    neigh = KNeighborsRegressor(n_neighbors=i)\n",
    "    neigh.fit(xtrain,ytrain)\n",
    "    errors.append(mean_squared_error(ytest,neigh.predict(xtest)))\n",
    "plt.plot(range(2,15), errors, 'o-')\n",
    "plt.show()\n",
    "\n",
    "#le minimum est atteint pour 9 voisins"
   ]
  },
  {
   "cell_type": "code",
   "execution_count": 16,
   "metadata": {},
   "outputs": [
    {
     "data": {
      "text/plain": [
       "167973.62003569832"
      ]
     },
     "execution_count": 16,
     "metadata": {},
     "output_type": "execute_result"
    }
   ],
   "source": [
    "#On s'intéresse donc in fine à la performance d'un knn à 9 voisins\n",
    "\n",
    "neigh = KNeighborsRegressor(n_neighbors=9)\n",
    "neigh.fit(xtrain,ytrain)\n",
    "yhat = neigh.predict(xtest)\n",
    "mean_squared_error(ytest,yhat)\n",
    "\n",
    "### On obtien une MSE de 167973, plus performant que la régression linéaire ###"
   ]
  }
 ],
 "metadata": {
  "kernelspec": {
   "display_name": "Python 3",
   "language": "python",
   "name": "python3"
  },
  "language_info": {
   "codemirror_mode": {
    "name": "ipython",
    "version": 3
   },
   "file_extension": ".py",
   "mimetype": "text/x-python",
   "name": "python",
   "nbconvert_exporter": "python",
   "pygments_lexer": "ipython3",
   "version": "3.6.1"
  }
 },
 "nbformat": 4,
 "nbformat_minor": 2
}
